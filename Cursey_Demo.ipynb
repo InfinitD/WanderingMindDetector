{
 "cells": [
  {
   "cell_type": "markdown",
   "metadata": {},
   "source": [
    "# Cursey - Mind Wandering Detection Demo\n",
    "\n",
    "This notebook demonstrates the Cursey mind wandering detection system.\n",
    "\n",
    "## What is Cursey?\n",
    "\n",
    "Cursey is a real-time system that uses computer vision to detect when someone's attention has wandered by analyzing eye movements and gaze patterns.\n",
    "\n",
    "## Key Features\n",
    "\n",
    "- Real-time eye detection from webcam\n",
    "- Gaze pattern analysis\n",
    "- Mind wandering detection using multiple indicators\n",
    "- Visual feedback and statistics"
   ]
  },
  {
   "cell_type": "markdown",
   "metadata": {},
   "source": [
    "## 1. Setup and Imports"
   ]
  },
  {
   "cell_type": "code",
   "execution_count": null,
   "metadata": {},
   "outputs": [],
   "source": [
    "import sys\n",
    "import os\n",
    "sys.path.append('src')\n",
    "\n",
    "import cv2\n",
    "import numpy as np\n",
    "import matplotlib.pyplot as plt\n",
    "from eye_detector import EyeDetector\n",
    "from gaze_analyzer import GazeAnalyzer\n",
    "\n",
    "print(\"Cursey modules imported successfully!\")"
   ]
  },
  {
   "cell_type": "markdown",
   "metadata": {},
   "source": [
    "## 2. Initialize Components"
   ]
  },
  {
   "cell_type": "code",
   "execution_count": null,
   "metadata": {},
   "outputs": [],
   "source": [
    "# Initialize the eye detector and gaze analyzer\n",
    "eye_detector = EyeDetector()\n",
    "gaze_analyzer = GazeAnalyzer()\n",
    "\n",
    "print(\"Components initialized successfully!\")"
   ]
  },
  {
   "cell_type": "markdown",
   "metadata": {},
   "source": [
    "## 3. Test Webcam Feed"
   ]
  },
  {
   "cell_type": "code",
   "execution_count": null,
   "metadata": {},
   "outputs": [],
   "source": [
    "# Capture a single frame from webcam\n",
    "cap = cv2.VideoCapture(0)\n",
    "\n",
    "if not cap.isOpened():\n",
    "    print(\"Warning: Could not open webcam. Using a test image instead.\")\n",
    "    # You can load a test image here if webcam is not available\n",
    "else:\n",
    "    ret, frame = cap.read()\n",
    "    if ret:\n",
    "        print(f\"Frame captured: {frame.shape}\")\n",
    "        plt.figure(figsize=(10, 6))\n",
    "        plt.imshow(cv2.cvtColor(frame, cv2.COLOR_BGR2RGB))\n",
    "        plt.title(\"Captured Frame\")\n",
    "        plt.axis('off')\n",
    "        plt.show()\n",
    "    cap.release()"
   ]
  },
  {
   "cell_type": "markdown",
   "metadata": {},
   "source": [
    "## 4. Eye Detection Demo"
   ]
  },
  {
   "cell_type": "code",
   "execution_count": null,
   "metadata": {},
   "outputs": [],
   "source": [
    "# Process a frame to detect eyes\n",
    "cap = cv2.VideoCapture(0)\n",
    "ret, frame = cap.read()\n",
    "\n",
    "if ret:\n",
    "    eye_data = eye_detector.process_frame(frame)\n",
    "    \n",
    "    # Display the result\n",
    "    plt.figure(figsize=(12, 6))\n",
    "    plt.subplot(1, 2, 1)\n",
    "    plt.imshow(cv2.cvtColor(frame, cv2.COLOR_BGR2RGB))\n",
    "    plt.title(\"Original Frame\")\n",
    "    plt.axis('off')\n",
    "    \n",
    "    plt.subplot(1, 2, 2)\n",
    "    plt.imshow(cv2.cvtColor(eye_data['frame_with_detections'], cv2.COLOR_BGR2RGB))\n",
    "    plt.title(\"Eye Detection\")\n",
    "    plt.axis('off')\n",
    "    \n",
    "    plt.tight_layout()\n",
    "    plt.show()\n",
    "    \n",
    "    print(f\"Faces detected: {len(eye_data['faces'])}\")\n",
    "    print(f\"Eye pairs detected: {len(eye_data['eyes'])}\")\n",
    "    \n",
    "    if eye_data['eyes']:\n",
    "        for i, eye_pair in enumerate(eye_data['eyes']):\n",
    "            print(f\"\\nEye Pair {i+1}:\")\n",
    "            if eye_pair.get('left_eye'):\n",
    "                print(f\"  Left eye features: {eye_pair['left_eye']['features']}\")\n",
    "            if eye_pair.get('right_eye'):\n",
    "                print(f\"  Right eye features: {eye_pair['right_eye']['features']}\")\n",
    "\n",
    "cap.release()"
   ]
  },
  {
   "cell_type": "markdown",
   "metadata": {},
   "source": [
    "## 5. Mind Wandering Detection Demo"
   ]
  },
  {
   "cell_type": "code",
   "execution_count": null,
   "metadata": {},
   "outputs": [],
   "source": [
    "# Analyze gaze patterns and detect mind wandering\n",
    "cap = cv2.VideoCapture(0)\n",
    "\n",
    "print(\"Capturing frames for mind wandering analysis...\")\n",
    "print(\"Please look at the camera for a few seconds.\")\n",
    "\n",
    "for i in range(30):  # Capture 30 frames\n",
    "    ret, frame = cap.read()\n",
    "    if ret:\n",
    "        eye_data = eye_detector.process_frame(frame)\n",
    "        wandering_state = gaze_analyzer.detect_mind_wandering(eye_data)\n",
    "        \n",
    "        if i % 10 == 0:\n",
    "            print(f\"\\nFrame {i}:\")\n",
    "            print(f\"  Attention Score: {wandering_state.get('features', {}).get('attention_score', 0):.2f}\")\n",
    "            print(f\"  Mind Wandering: {wandering_state.get('is_wandering', False)}\")\n",
    "            print(f\"  Confidence: {wandering_state.get('confidence', 0):.2f}\")\n",
    "\n",
    "cap.release()\n",
    "\n",
    "# Final analysis\n",
    "print(\"\\n\" + \"=\"*50)\n",
    "print(\"Analysis Complete!\")\n",
    "print(\"=\"*50)"
   ]
  },
  {
   "cell_type": "markdown",
   "metadata": {},
   "source": [
    "## 6. Visualization of Gaze Features"
   ]
  },
  {
   "cell_type": "code",
   "execution_count": null,
   "metadata": {},
   "outputs": [],
   "source": [
    "# Simulate and visualize gaze features\n",
    "import matplotlib.pyplot as plt\n",
    "import numpy as np\n",
    "\n",
    "# Simulate gaze data\n",
    "attentive_gaze = np.random.normal(0, 5, (30, 2))  # Low dispersion\n",
    "wandering_gaze = np.random.normal(0, 20, (30, 2))  # High dispersion\n",
    "\n",
    "fig, axes = plt.subplots(1, 2, figsize=(12, 5))\n",
    "\n",
    "# Attentive gaze\n",
    "axes[0].scatter(attentive_gaze[:, 0], attentive_gaze[:, 1], alpha=0.6, c='green')\n",
    "axes[0].set_title('Attentive Gaze Pattern\\n(Low Dispersion)', fontsize=12)\n",
    "axes[0].set_xlabel('X Position')\n",
    "axes[0].set_ylabel('Y Position')\n",
    "axes[0].grid(True, alpha=0.3)\n",
    "axes[0].set_xlim(-30, 30)\n",
    "axes[0].set_ylim(-30, 30)\n",
    "\n",
    "# Wandering gaze\n",
    "axes[1].scatter(wandering_gaze[:, 0], wandering_gaze[:, 1], alpha=0.6, c='red')\n",
    "axes[1].set_title('Mind Wandering Gaze Pattern\\n(High Dispersion)', fontsize=12)\n",
    "axes[1].set_xlabel('X Position')\n",
    "axes[1].set_ylabel('Y Position')\n",
    "axes[1].grid(True, alpha=0.3)\n",
    "axes[1].set_xlim(-30, 30)\n",
    "axes[1].set_ylim(-30, 30)\n",
    "\n",
    "plt.tight_layout()\n",
    "plt.show()\n",
    "\n",
    "print(\"\\nKey Insight: Mind wandering shows higher gaze dispersion\")\n",
    "print(\"and less stable fixation compared to attentive states.\")"
   ]
  },
  {
   "cell_type": "markdown",
   "metadata": {},
   "source": [
    "## 7. Running the Full Application\n",
    "\n",
    "To run the complete Cursey application with real-time visualization:"
   ]
  },
  {
   "cell_type": "code",
   "execution_count": null,
   "metadata": {},
   "outputs": [],
   "source": [
    "print(\"To run the full Cursey application, execute:\")\n",
    "print(\"python src/main_app.py\")\n",
    "print(\"\\nThis will launch the real-time mind wandering detection interface.\")"
   ]
  }
 ],
 "metadata": {
  "kernelspec": {
   "display_name": "Python 3",
   "language": "python",
   "name": "python3"
  },
  "language_info": {
   "name": "python",
   "version": "3.9.0"
  }
 },
 "nbformat": 4,
 "nbformat_minor": 4
}
